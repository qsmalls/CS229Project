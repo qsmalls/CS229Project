{
 "cells": [
  {
   "cell_type": "code",
   "execution_count": 247,
   "metadata": {},
   "outputs": [],
   "source": [
    "import sklearn\n",
    "import numpy as np\n",
    "import pandas as pd\n",
    "import os\n",
    "import numpy as np\n",
    "import seaborn as sns\n",
    "from pylab import rcParams\n",
    "import matplotlib.pyplot as plt\n",
    "from matplotlib import rc\n",
    "from sklearn.linear_model import LogisticRegression\n",
    "from sklearn.model_selection import train_test_split\n",
    "from sklearn.metrics import confusion_matrix, classification_report, plot_roc_curve, roc_curve, roc_auc_score\n",
    "from sklearn.neural_network import MLPClassifier"
   ]
  },
  {
   "cell_type": "code",
   "execution_count": 248,
   "metadata": {},
   "outputs": [
    {
     "name": "stderr",
     "output_type": "stream",
     "text": [
      "/usr/local/lib/python3.8/dist-packages/IPython/core/interactiveshell.py:3062: DtypeWarning: Columns (3) have mixed types.Specify dtype option on import or set low_memory=False.\n",
      "  has_raised = await self.run_ast_nodes(code_ast.body, cell_name,\n"
     ]
    }
   ],
   "source": [
    "data = pd.read_csv('Combined_Crash_Data_Cleaned_w_Street_Num.csv')"
   ]
  },
  {
   "cell_type": "code",
   "execution_count": 133,
   "metadata": {},
   "outputs": [],
   "source": [
    "r_type = pd.get_dummies(data.RW_TYPE.astype(str), prefix='RW_TYPE')\n",
    "borough = pd.get_dummies(data.BOROUGH.astype(str), prefix='BOROUGH')"
   ]
  },
  {
   "cell_type": "code",
   "execution_count": 134,
   "metadata": {
    "collapsed": true,
    "jupyter": {
     "outputs_hidden": true
    }
   },
   "outputs": [
    {
     "data": {
      "text/plain": [
       "['Unnamed: 0',\n",
       " 'Unnamed: 0.1',\n",
       " 'BOROUGH',\n",
       " 'ZIP CODE',\n",
       " 'LATITUDE',\n",
       " 'LONGITUDE',\n",
       " 'STREETWIDT',\n",
       " 'RW_TYPE',\n",
       " 'temp',\n",
       " 'dwpt',\n",
       " 'rhum',\n",
       " 'prcp',\n",
       " 'wdir',\n",
       " 'wspd',\n",
       " 'pres',\n",
       " 'DAY',\n",
       " 'MONTH',\n",
       " 'YEAR',\n",
       " 'HOUR',\n",
       " 'MINUTE',\n",
       " 'CRASH',\n",
       " 'CRASHES ON ROAD',\n",
       " 'BOROUGH_1.0',\n",
       " 'BOROUGH_2.0',\n",
       " 'BOROUGH_3.0',\n",
       " 'BOROUGH_4.0',\n",
       " 'BOROUGH_5.0',\n",
       " 'RW_TYPE_1.0',\n",
       " 'RW_TYPE_10.0',\n",
       " 'RW_TYPE_12.0',\n",
       " 'RW_TYPE_13.0',\n",
       " 'RW_TYPE_14.0',\n",
       " 'RW_TYPE_2.0',\n",
       " 'RW_TYPE_3.0',\n",
       " 'RW_TYPE_4.0',\n",
       " 'RW_TYPE_5.0',\n",
       " 'RW_TYPE_6.0',\n",
       " 'RW_TYPE_7.0',\n",
       " 'RW_TYPE_8.0',\n",
       " 'RW_TYPE_9.0']"
      ]
     },
     "execution_count": 134,
     "metadata": {},
     "output_type": "execute_result"
    }
   ],
   "source": [
    "data2 = data.merge(borough, left_index=True, right_index=True)\n",
    "data3 = data2.merge(r_type, left_index=True, right_index=True)"
   ]
  },
  {
   "cell_type": "code",
   "execution_count": 249,
   "metadata": {},
   "outputs": [],
   "source": [
    "shuffled = data3.sample(frac=1)\n",
    "shuffled.fillna(0, inplace=True)\n",
    "y = shuffled['CRASH']\n",
    "X = shuffled.drop(labels=['Unnamed: 0', 'Unnamed: 0.1', 'CRASH', 'ZIP CODE', 'BOROUGH', 'RW_TYPE', 'CRASHES ON ROAD'], axis=1)"
   ]
  },
  {
   "cell_type": "code",
   "execution_count": 283,
   "metadata": {},
   "outputs": [],
   "source": [
    "model = LogisticRegression(solver='liblinear', random_state=0)"
   ]
  },
  {
   "cell_type": "code",
   "execution_count": 284,
   "metadata": {},
   "outputs": [],
   "source": [
    "X_train, X_test, y_train, y_test = train_test_split(\n",
    "...     X, y, test_size=0.33, random_state=42)\n",
    "X_dev, X_test, y_dev, y_test = train_test_split(\n",
    "...     X_test, y_test, test_size=0.5, random_state=42)"
   ]
  },
  {
   "cell_type": "code",
   "execution_count": 285,
   "metadata": {
    "collapsed": true,
    "jupyter": {
     "outputs_hidden": true
    }
   },
   "outputs": [
    {
     "ename": "ValueError",
     "evalue": "penalty='none' is not supported for the liblinear solver",
     "output_type": "error",
     "traceback": [
      "\u001b[0;31m---------------------------------------------------------------------------\u001b[0m",
      "\u001b[0;31mValueError\u001b[0m                                Traceback (most recent call last)",
      "\u001b[0;32m<ipython-input-285-d768f88d541e>\u001b[0m in \u001b[0;36m<module>\u001b[0;34m\u001b[0m\n\u001b[0;32m----> 1\u001b[0;31m \u001b[0mmodel\u001b[0m\u001b[0;34m.\u001b[0m\u001b[0mfit\u001b[0m\u001b[0;34m(\u001b[0m\u001b[0mX_train\u001b[0m\u001b[0;34m,\u001b[0m \u001b[0my_train\u001b[0m\u001b[0;34m)\u001b[0m\u001b[0;34m\u001b[0m\u001b[0;34m\u001b[0m\u001b[0m\n\u001b[0m",
      "\u001b[0;32m/usr/local/lib/python3.8/dist-packages/sklearn/linear_model/_logistic.py\u001b[0m in \u001b[0;36mfit\u001b[0;34m(self, X, y, sample_weight)\u001b[0m\n\u001b[1;32m   1486\u001b[0m         \u001b[0mThe\u001b[0m \u001b[0mSAGA\u001b[0m \u001b[0msolver\u001b[0m \u001b[0msupports\u001b[0m \u001b[0mboth\u001b[0m \u001b[0mfloat64\u001b[0m \u001b[0;32mand\u001b[0m \u001b[0mfloat32\u001b[0m \u001b[0mbit\u001b[0m \u001b[0marrays\u001b[0m\u001b[0;34m.\u001b[0m\u001b[0;34m\u001b[0m\u001b[0;34m\u001b[0m\u001b[0m\n\u001b[1;32m   1487\u001b[0m         \"\"\"\n\u001b[0;32m-> 1488\u001b[0;31m         \u001b[0msolver\u001b[0m \u001b[0;34m=\u001b[0m \u001b[0m_check_solver\u001b[0m\u001b[0;34m(\u001b[0m\u001b[0mself\u001b[0m\u001b[0;34m.\u001b[0m\u001b[0msolver\u001b[0m\u001b[0;34m,\u001b[0m \u001b[0mself\u001b[0m\u001b[0;34m.\u001b[0m\u001b[0mpenalty\u001b[0m\u001b[0;34m,\u001b[0m \u001b[0mself\u001b[0m\u001b[0;34m.\u001b[0m\u001b[0mdual\u001b[0m\u001b[0;34m)\u001b[0m\u001b[0;34m\u001b[0m\u001b[0;34m\u001b[0m\u001b[0m\n\u001b[0m\u001b[1;32m   1489\u001b[0m \u001b[0;34m\u001b[0m\u001b[0m\n\u001b[1;32m   1490\u001b[0m         \u001b[0;32mif\u001b[0m \u001b[0;32mnot\u001b[0m \u001b[0misinstance\u001b[0m\u001b[0;34m(\u001b[0m\u001b[0mself\u001b[0m\u001b[0;34m.\u001b[0m\u001b[0mC\u001b[0m\u001b[0;34m,\u001b[0m \u001b[0mnumbers\u001b[0m\u001b[0;34m.\u001b[0m\u001b[0mNumber\u001b[0m\u001b[0;34m)\u001b[0m \u001b[0;32mor\u001b[0m \u001b[0mself\u001b[0m\u001b[0;34m.\u001b[0m\u001b[0mC\u001b[0m \u001b[0;34m<\u001b[0m \u001b[0;36m0\u001b[0m\u001b[0;34m:\u001b[0m\u001b[0;34m\u001b[0m\u001b[0;34m\u001b[0m\u001b[0m\n",
      "\u001b[0;32m/usr/local/lib/python3.8/dist-packages/sklearn/linear_model/_logistic.py\u001b[0m in \u001b[0;36m_check_solver\u001b[0;34m(solver, penalty, dual)\u001b[0m\n\u001b[1;32m    453\u001b[0m \u001b[0;34m\u001b[0m\u001b[0m\n\u001b[1;32m    454\u001b[0m     \u001b[0;32mif\u001b[0m \u001b[0msolver\u001b[0m \u001b[0;34m==\u001b[0m \u001b[0;34m'liblinear'\u001b[0m \u001b[0;32mand\u001b[0m \u001b[0mpenalty\u001b[0m \u001b[0;34m==\u001b[0m \u001b[0;34m'none'\u001b[0m\u001b[0;34m:\u001b[0m\u001b[0;34m\u001b[0m\u001b[0;34m\u001b[0m\u001b[0m\n\u001b[0;32m--> 455\u001b[0;31m         raise ValueError(\n\u001b[0m\u001b[1;32m    456\u001b[0m             \u001b[0;34m\"penalty='none' is not supported for the liblinear solver\"\u001b[0m\u001b[0;34m\u001b[0m\u001b[0;34m\u001b[0m\u001b[0m\n\u001b[1;32m    457\u001b[0m         )\n",
      "\u001b[0;31mValueError\u001b[0m: penalty='none' is not supported for the liblinear solver"
     ]
    }
   ],
   "source": [
    "model.fit(X_train, y_train)"
   ]
  },
  {
   "cell_type": "code",
   "execution_count": 236,
   "metadata": {
    "collapsed": true,
    "jupyter": {
     "outputs_hidden": true
    }
   },
   "outputs": [
    {
     "name": "stdout",
     "output_type": "stream",
     "text": [
      "Accuracy of Logistic Regression Classifier :  0.7407942934258723\n"
     ]
    }
   ],
   "source": [
    "def accuracy(confusion_matrix):\n",
    "   diagonal_sum = confusion_matrix.trace()\n",
    "   sum_of_all_elements = confusion_matrix.sum()\n",
    "   return diagonal_sum / sum_of_all_elements\n",
    "\n",
    "\n",
    "y_pred = model.predict(X_test)\n",
    "cm = confusion_matrix(y_pred, y_test)\n",
    "print(\"Accuracy of Logistic Regression Classifier : \", accuracy(cm))"
   ]
  },
  {
   "cell_type": "code",
   "execution_count": 237,
   "metadata": {
    "collapsed": true,
    "jupyter": {
     "outputs_hidden": true
    }
   },
   "outputs": [
    {
     "name": "stdout",
     "output_type": "stream",
     "text": [
      "[[179330  29169]\n",
      " [132171 281770]]\n"
     ]
    }
   ],
   "source": [
    "print(cm)"
   ]
  },
  {
   "cell_type": "code",
   "execution_count": 238,
   "metadata": {
    "collapsed": true,
    "jupyter": {
     "outputs_hidden": true
    }
   },
   "outputs": [
    {
     "data": {
      "image/png": "[encoded data removed]",
      "text/plain": [
       "<Figure size 432x288 with 1 Axes>"
      ]
     },
     "metadata": {
      "needs_background": "light"
     },
     "output_type": "display_data"
    }
   ],
   "source": [
    "plot_roc_curve(model, X_dev, y_dev)\n",
    "plt.plot((0,1),(0,1),color='red',linewidth=1,linestyle='--')\n",
    "plt.show()"
   ]
  },
  {
   "cell_type": "code",
   "execution_count": 239,
   "metadata": {},
   "outputs": [],
   "source": [
    "y_test = np.full(len(y_test), y_test)"
   ]
  },
  {
   "cell_type": "code",
   "execution_count": 240,
   "metadata": {
    "collapsed": true,
    "jupyter": {
     "outputs_hidden": true
    }
   },
   "outputs": [
    {
     "name": "stdout",
     "output_type": "stream",
     "text": [
      "A_0:  0.5756963862074279\n",
      "A_1:  0.9061906033016122\n",
      "Balanced Accuracy:  0.74094349475452\n",
      "Class Accuracy:  0.7407942934258724\n"
     ]
    }
   ],
   "source": [
    "positives = sum(y_test)\n",
    "count_1 = 0\n",
    "count_0 = 0\n",
    "for i in range(len(y_test)):\n",
    "    if y_test[i] == 1:\n",
    "        if y_pred[i] == 1:\n",
    "            count_1 += 1\n",
    "    elif y_pred[i] == 0:\n",
    "        count_0 += 1\n",
    "\n",
    "acc_1 = count_1/positives\n",
    "acc_0 = count_0/(len(y_test)-positives)\n",
    "balanced_acc = (1/2)*(acc_0+acc_1)\n",
    "class_acc = np.mean(y_test)*acc_1 + (1-np.mean(y_test))*acc_0\n",
    "\n",
    "print('A_0: ', acc_0)\n",
    "print('A_1: ', acc_1)\n",
    "print('Balanced Accuracy: ', balanced_acc)\n",
    "print('Class Accuracy: ', class_acc)"
   ]
  },
  {
   "cell_type": "code",
   "execution_count": 241,
   "metadata": {
    "collapsed": true,
    "jupyter": {
     "outputs_hidden": true
    }
   },
   "outputs": [
    {
     "data": {
      "text/plain": [
       "['LATITUDE',\n",
       " 'LONGITUDE',\n",
       " 'STREETWIDT',\n",
       " 'temp',\n",
       " 'dwpt',\n",
       " 'rhum',\n",
       " 'prcp',\n",
       " 'wdir',\n",
       " 'wspd',\n",
       " 'pres',\n",
       " 'DAY',\n",
       " 'MONTH',\n",
       " 'YEAR',\n",
       " 'HOUR',\n",
       " 'MINUTE',\n",
       " 'BOROUGH_1.0',\n",
       " 'BOROUGH_2.0',\n",
       " 'BOROUGH_3.0',\n",
       " 'BOROUGH_4.0',\n",
       " 'BOROUGH_5.0',\n",
       " 'RW_TYPE_1.0',\n",
       " 'RW_TYPE_10.0',\n",
       " 'RW_TYPE_12.0',\n",
       " 'RW_TYPE_13.0',\n",
       " 'RW_TYPE_14.0',\n",
       " 'RW_TYPE_2.0',\n",
       " 'RW_TYPE_3.0',\n",
       " 'RW_TYPE_4.0',\n",
       " 'RW_TYPE_5.0',\n",
       " 'RW_TYPE_6.0',\n",
       " 'RW_TYPE_7.0',\n",
       " 'RW_TYPE_8.0',\n",
       " 'RW_TYPE_9.0']"
      ]
     },
     "execution_count": 241,
     "metadata": {},
     "output_type": "execute_result"
    }
   ],
   "source": [
    "list(X_train.columns)"
   ]
  },
  {
   "cell_type": "code",
   "execution_count": 104,
   "metadata": {
    "collapsed": true,
    "jupyter": {
     "outputs_hidden": true
    }
   },
   "outputs": [
    {
     "data": {
      "text/plain": [
       "array([[-6.61498753e-02, -3.96044644e-02, -4.51047018e-03,\n",
       "        -3.34916134e-03,  2.68700373e-03,  2.58854701e-03,\n",
       "         4.19893425e-03,  2.61649936e-04, -1.77537617e-04,\n",
       "         1.24729411e-02,  2.02356941e-04, -3.73389170e-03,\n",
       "        -6.16210532e-03,  5.01437971e-02, -1.65033006e-02,\n",
       "         2.56365672e-06, -3.92068730e-02, -3.86144621e-02,\n",
       "        -7.39919213e-02,  2.00450675e-01, -4.83363084e-02,\n",
       "         4.78572798e-02, -9.48458093e-03, -4.34823873e-06,\n",
       "        -7.26362423e-04, -8.93353833e-04, -9.12683146e-03,\n",
       "        -4.64588330e-03, -3.69500573e-04, -2.60087964e-04,\n",
       "        -1.16396295e-02, -4.35815826e-04, -1.62587181e-03,\n",
       "        -8.34390325e-03]])"
      ]
     },
     "execution_count": 104,
     "metadata": {},
     "output_type": "execute_result"
    }
   ],
   "source": [
    "model.coef_"
   ]
  },
  {
   "cell_type": "code",
   "execution_count": 185,
   "metadata": {
    "collapsed": true,
    "jupyter": {
     "outputs_hidden": true
    }
   },
   "outputs": [
    {
     "name": "stdout",
     "output_type": "stream",
     "text": [
      "[[179590  29653]\n",
      " [131994 281203]]\n"
     ]
    }
   ],
   "source": [
    "print(cm)"
   ]
  },
  {
   "cell_type": "markdown",
   "metadata": {},
   "source": [
    "#NEWTON NEURAL NETWORK"
   ]
  },
  {
   "cell_type": "code",
   "execution_count": 278,
   "metadata": {},
   "outputs": [],
   "source": [
    "clf_newton = MLPClassifier(solver='lbfgs', activation='logistic', alpha=1e-5,\n",
    "                    hidden_layer_sizes=(34), random_state=1)"
   ]
  },
  {
   "cell_type": "code",
   "execution_count": 279,
   "metadata": {},
   "outputs": [],
   "source": [
    "X_train, X_test, y_train, y_test = train_test_split(\n",
    "...     X, y, test_size=0.33, random_state=42)\n",
    "X_dev, X_test, y_dev, y_test = train_test_split(\n",
    "...     X_test, y_test, test_size=0.5, random_state=42)"
   ]
  },
  {
   "cell_type": "code",
   "execution_count": 280,
   "metadata": {},
   "outputs": [
    {
     "data": {
      "text/plain": [
       "MLPClassifier(activation='logistic', alpha=1e-05, batch_size='auto', beta_1=0.9,\n",
       "              beta_2=0.999, early_stopping=False, epsilon=1e-08,\n",
       "              hidden_layer_sizes=35, learning_rate='constant',\n",
       "              learning_rate_init=0.001, max_fun=15000, max_iter=200,\n",
       "              momentum=0.9, n_iter_no_change=10, nesterovs_momentum=True,\n",
       "              power_t=0.5, random_state=1, shuffle=True, solver='lbfgs',\n",
       "              tol=0.0001, validation_fraction=0.1, verbose=False,\n",
       "              warm_start=False)"
      ]
     },
     "execution_count": 280,
     "metadata": {},
     "output_type": "execute_result"
    }
   ],
   "source": [
    "clf_newton.fit(X_train, y_train)"
   ]
  },
  {
   "cell_type": "code",
   "execution_count": 281,
   "metadata": {},
   "outputs": [
    {
     "name": "stdout",
     "output_type": "stream",
     "text": [
      "Accuracy of MLPClassifier :  0.7497168397224467\n"
     ]
    }
   ],
   "source": [
    "y_pred = clf_newton.predict(X_dev)\n",
    "cm = confusion_matrix(y_pred, y_dev)\n",
    "print(\"Accuracy of MLPClassifier : \", accuracy(cm))"
   ]
  },
  {
   "cell_type": "code",
   "execution_count": 282,
   "metadata": {},
   "outputs": [
    {
     "name": "stdout",
     "output_type": "stream",
     "text": [
      "[[155567      0]\n",
      " [155786 311086]]\n"
     ]
    }
   ],
   "source": [
    "print(cm)"
   ]
  },
  {
   "cell_type": "code",
   "execution_count": 271,
   "metadata": {},
   "outputs": [],
   "source": [
    "y_dev = np.full(len(y_dev), y_dev)"
   ]
  },
  {
   "cell_type": "code",
   "execution_count": 272,
   "metadata": {},
   "outputs": [
    {
     "name": "stdout",
     "output_type": "stream",
     "text": [
      "A_0:  0.5003966558857631\n",
      "A_1:  0.9985245237651325\n",
      "Balanced Accuracy:  0.7494605898254478\n",
      "Class Accuracy:  0.7493537519339244\n"
     ]
    }
   ],
   "source": [
    "positives = sum(y_dev)\n",
    "count_1 = 0\n",
    "count_0 = 0\n",
    "for i in range(len(y_pred)):\n",
    "    if y_dev[i] == 1:\n",
    "        if y_pred[i] == 1:\n",
    "            count_1 += 1\n",
    "    elif y_pred[i] == 0:\n",
    "        count_0 += 1\n",
    "\n",
    "acc_1 = count_1/positives\n",
    "acc_0 = count_0/(len(y_dev)-positives)\n",
    "balanced_acc = (1/2)*(acc_0+acc_1)\n",
    "class_acc = np.mean(y_dev)*acc_1 + (1-np.mean(y_dev))*acc_0\n",
    "\n",
    "print('A_0: ', acc_0)\n",
    "print('A_1: ', acc_1)\n",
    "print('Balanced Accuracy: ', balanced_acc)\n",
    "print('Class Accuracy: ', class_acc)"
   ]
  },
  {
   "cell_type": "code",
   "execution_count": 273,
   "metadata": {},
   "outputs": [
    {
     "data": {
      "image/png": "[encoded data removed]",
      "text/plain": [
       "<Figure size 432x288 with 1 Axes>"
      ]
     },
     "metadata": {
      "needs_background": "light"
     },
     "output_type": "display_data"
    }
   ],
   "source": [
    "plot_roc_curve(clf_newton, X_test, y_test)\n",
    "plt.plot((0,1),(0,1),color='red',linewidth=1,linestyle='--')\n",
    "plt.show()"
   ]
  }
 ],
 "metadata": {
  "kernelspec": {
   "display_name": "Python 3",
   "language": "python",
   "name": "python3"
  },
  "language_info": {
   "codemirror_mode": {
    "name": "ipython",
    "version": 3
   },
   "file_extension": ".py",
   "mimetype": "text/x-python",
   "name": "python",
   "nbconvert_exporter": "python",
   "pygments_lexer": "ipython3",
   "version": "3.8.9"
  }
 },
 "nbformat": 4,
 "nbformat_minor": 4
}
