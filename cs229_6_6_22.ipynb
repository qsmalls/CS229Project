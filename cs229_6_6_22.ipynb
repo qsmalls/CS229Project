{
 "cells": [
  {
   "cell_type": "code",
   "execution_count": 78,
   "metadata": {},
   "outputs": [],
   "source": [
    "import sklearn\n",
    "import numpy as np\n",
    "import pandas as pd\n",
    "import os\n",
    "import numpy as np\n",
    "import seaborn as sns\n",
    "from pylab import rcParams\n",
    "import matplotlib.pyplot as plt\n",
    "from matplotlib import rc\n",
    "from sklearn.linear_model import LogisticRegression\n",
    "from sklearn.model_selection import train_test_split\n",
    "from sklearn.metrics import confusion_matrix, classification_report\n",
    "from sklearn.neural_network import MLPClassifier"
   ]
  },
  {
   "cell_type": "code",
   "execution_count": 79,
   "metadata": {},
   "outputs": [
    {
     "name": "stderr",
     "output_type": "stream",
     "text": [
      "/usr/local/lib/python3.8/dist-packages/IPython/core/interactiveshell.py:3062: DtypeWarning: Columns (3) have mixed types.Specify dtype option on import or set low_memory=False.\n",
      "  has_raised = await self.run_ast_nodes(code_ast.body, cell_name,\n"
     ]
    }
   ],
   "source": [
    "data = pd.read_csv('Combined_Crash_Data_Cleaned_w_Street_Num.csv')"
   ]
  },
  {
   "cell_type": "code",
   "execution_count": 80,
   "metadata": {},
   "outputs": [],
   "source": [
    "from sklearn.preprocessing import LabelEncoder\n",
    "le = LabelEncoder()\n",
    "data['RW_TYPE'] = le.fit_transform(data['RW_TYPE'].astype(str))\n",
    "data['BOROUGH'] = le.fit_transform(data['BOROUGH'].astype(str))"
   ]
  },
  {
   "cell_type": "code",
   "execution_count": 81,
   "metadata": {},
   "outputs": [
    {
     "name": "stdout",
     "output_type": "stream",
     "text": [
      "Unnamed: 0           int64\n",
      "Unnamed: 0.1         int64\n",
      "BOROUGH              int64\n",
      "ZIP CODE            object\n",
      "LATITUDE           float64\n",
      "LONGITUDE          float64\n",
      "STREETWIDT         float64\n",
      "RW_TYPE              int64\n",
      "temp               float64\n",
      "dwpt               float64\n",
      "rhum               float64\n",
      "prcp               float64\n",
      "wdir               float64\n",
      "wspd               float64\n",
      "pres               float64\n",
      "DAY                  int64\n",
      "MONTH                int64\n",
      "YEAR                 int64\n",
      "HOUR                 int64\n",
      "MINUTE               int64\n",
      "CRASH                int64\n",
      "CRASHES ON ROAD      int64\n",
      "dtype: object\n"
     ]
    }
   ],
   "source": [
    "print(data.dtypes)"
   ]
  },
  {
   "cell_type": "code",
   "execution_count": 82,
   "metadata": {},
   "outputs": [
    {
     "data": {
      "text/html": [
       "<div>\n",
       "<style scoped>\n",
       "    .dataframe tbody tr th:only-of-type {\n",
       "        vertical-align: middle;\n",
       "    }\n",
       "\n",
       "    .dataframe tbody tr th {\n",
       "        vertical-align: top;\n",
       "    }\n",
       "\n",
       "    .dataframe thead th {\n",
       "        text-align: right;\n",
       "    }\n",
       "</style>\n",
       "<table border=\"1\" class=\"dataframe\">\n",
       "  <thead>\n",
       "    <tr style=\"text-align: right;\">\n",
       "      <th></th>\n",
       "      <th>Unnamed: 0</th>\n",
       "      <th>Unnamed: 0.1</th>\n",
       "      <th>BOROUGH</th>\n",
       "      <th>ZIP CODE</th>\n",
       "      <th>LATITUDE</th>\n",
       "      <th>LONGITUDE</th>\n",
       "      <th>STREETWIDT</th>\n",
       "      <th>RW_TYPE</th>\n",
       "      <th>temp</th>\n",
       "      <th>dwpt</th>\n",
       "      <th>...</th>\n",
       "      <th>wdir</th>\n",
       "      <th>wspd</th>\n",
       "      <th>pres</th>\n",
       "      <th>DAY</th>\n",
       "      <th>MONTH</th>\n",
       "      <th>YEAR</th>\n",
       "      <th>HOUR</th>\n",
       "      <th>MINUTE</th>\n",
       "      <th>CRASH</th>\n",
       "      <th>CRASHES ON ROAD</th>\n",
       "    </tr>\n",
       "  </thead>\n",
       "  <tbody>\n",
       "    <tr>\n",
       "      <th>0</th>\n",
       "      <td>0</td>\n",
       "      <td>0</td>\n",
       "      <td>3</td>\n",
       "      <td>11207</td>\n",
       "      <td>40.671786</td>\n",
       "      <td>-42.450823</td>\n",
       "      <td>31.0</td>\n",
       "      <td>0</td>\n",
       "      <td>9.000000</td>\n",
       "      <td>5.700000</td>\n",
       "      <td>...</td>\n",
       "      <td>185.000000</td>\n",
       "      <td>8.300000</td>\n",
       "      <td>1019.000000</td>\n",
       "      <td>14</td>\n",
       "      <td>4</td>\n",
       "      <td>2021</td>\n",
       "      <td>5</td>\n",
       "      <td>32</td>\n",
       "      <td>1</td>\n",
       "      <td>214</td>\n",
       "    </tr>\n",
       "    <tr>\n",
       "      <th>1</th>\n",
       "      <td>1</td>\n",
       "      <td>1</td>\n",
       "      <td>2</td>\n",
       "      <td>11217</td>\n",
       "      <td>40.683580</td>\n",
       "      <td>-73.976170</td>\n",
       "      <td>31.0</td>\n",
       "      <td>0</td>\n",
       "      <td>17.000000</td>\n",
       "      <td>4.300000</td>\n",
       "      <td>...</td>\n",
       "      <td>330.000000</td>\n",
       "      <td>7.000000</td>\n",
       "      <td>1017.000000</td>\n",
       "      <td>13</td>\n",
       "      <td>4</td>\n",
       "      <td>2021</td>\n",
       "      <td>21</td>\n",
       "      <td>35</td>\n",
       "      <td>1</td>\n",
       "      <td>1</td>\n",
       "    </tr>\n",
       "    <tr>\n",
       "      <th>2</th>\n",
       "      <td>2</td>\n",
       "      <td>2</td>\n",
       "      <td>3</td>\n",
       "      <td>11207</td>\n",
       "      <td>40.671786</td>\n",
       "      <td>-42.450823</td>\n",
       "      <td>31.0</td>\n",
       "      <td>0</td>\n",
       "      <td>11.000000</td>\n",
       "      <td>9.900000</td>\n",
       "      <td>...</td>\n",
       "      <td>110.000000</td>\n",
       "      <td>7.000000</td>\n",
       "      <td>1006.000000</td>\n",
       "      <td>15</td>\n",
       "      <td>4</td>\n",
       "      <td>2021</td>\n",
       "      <td>16</td>\n",
       "      <td>15</td>\n",
       "      <td>1</td>\n",
       "      <td>255</td>\n",
       "    </tr>\n",
       "    <tr>\n",
       "      <th>3</th>\n",
       "      <td>3</td>\n",
       "      <td>3</td>\n",
       "      <td>2</td>\n",
       "      <td>11222</td>\n",
       "      <td>40.671786</td>\n",
       "      <td>-42.450823</td>\n",
       "      <td>31.0</td>\n",
       "      <td>0</td>\n",
       "      <td>14.000000</td>\n",
       "      <td>1.900000</td>\n",
       "      <td>...</td>\n",
       "      <td>8.000000</td>\n",
       "      <td>6.000000</td>\n",
       "      <td>1019.000000</td>\n",
       "      <td>13</td>\n",
       "      <td>4</td>\n",
       "      <td>2021</td>\n",
       "      <td>16</td>\n",
       "      <td>0</td>\n",
       "      <td>1</td>\n",
       "      <td>34</td>\n",
       "    </tr>\n",
       "    <tr>\n",
       "      <th>4</th>\n",
       "      <td>4</td>\n",
       "      <td>4</td>\n",
       "      <td>3</td>\n",
       "      <td>11207</td>\n",
       "      <td>0.000000</td>\n",
       "      <td>0.000000</td>\n",
       "      <td>31.0</td>\n",
       "      <td>0</td>\n",
       "      <td>8.000000</td>\n",
       "      <td>4.900000</td>\n",
       "      <td>...</td>\n",
       "      <td>10.000000</td>\n",
       "      <td>15.000000</td>\n",
       "      <td>1007.000000</td>\n",
       "      <td>12</td>\n",
       "      <td>4</td>\n",
       "      <td>2021</td>\n",
       "      <td>8</td>\n",
       "      <td>25</td>\n",
       "      <td>1</td>\n",
       "      <td>235</td>\n",
       "    </tr>\n",
       "    <tr>\n",
       "      <th>...</th>\n",
       "      <td>...</td>\n",
       "      <td>...</td>\n",
       "      <td>...</td>\n",
       "      <td>...</td>\n",
       "      <td>...</td>\n",
       "      <td>...</td>\n",
       "      <td>...</td>\n",
       "      <td>...</td>\n",
       "      <td>...</td>\n",
       "      <td>...</td>\n",
       "      <td>...</td>\n",
       "      <td>...</td>\n",
       "      <td>...</td>\n",
       "      <td>...</td>\n",
       "      <td>...</td>\n",
       "      <td>...</td>\n",
       "      <td>...</td>\n",
       "      <td>...</td>\n",
       "      <td>...</td>\n",
       "      <td>...</td>\n",
       "      <td>...</td>\n",
       "    </tr>\n",
       "    <tr>\n",
       "      <th>3772355</th>\n",
       "      <td>3772355</td>\n",
       "      <td>3772355</td>\n",
       "      <td>0</td>\n",
       "      <td>10035</td>\n",
       "      <td>40.801235</td>\n",
       "      <td>-73.941815</td>\n",
       "      <td>31.0</td>\n",
       "      <td>0</td>\n",
       "      <td>13.344589</td>\n",
       "      <td>4.981792</td>\n",
       "      <td>...</td>\n",
       "      <td>211.600071</td>\n",
       "      <td>11.154067</td>\n",
       "      <td>1017.660219</td>\n",
       "      <td>6</td>\n",
       "      <td>7</td>\n",
       "      <td>2012</td>\n",
       "      <td>11</td>\n",
       "      <td>46</td>\n",
       "      <td>0</td>\n",
       "      <td>279</td>\n",
       "    </tr>\n",
       "    <tr>\n",
       "      <th>3772356</th>\n",
       "      <td>3772356</td>\n",
       "      <td>3772356</td>\n",
       "      <td>3</td>\n",
       "      <td>11102</td>\n",
       "      <td>40.774711</td>\n",
       "      <td>-73.933386</td>\n",
       "      <td>31.0</td>\n",
       "      <td>0</td>\n",
       "      <td>13.344589</td>\n",
       "      <td>4.981792</td>\n",
       "      <td>...</td>\n",
       "      <td>211.600071</td>\n",
       "      <td>11.154067</td>\n",
       "      <td>1017.660219</td>\n",
       "      <td>3</td>\n",
       "      <td>7</td>\n",
       "      <td>2012</td>\n",
       "      <td>12</td>\n",
       "      <td>23</td>\n",
       "      <td>0</td>\n",
       "      <td>239</td>\n",
       "    </tr>\n",
       "    <tr>\n",
       "      <th>3772357</th>\n",
       "      <td>3772357</td>\n",
       "      <td>3772357</td>\n",
       "      <td>2</td>\n",
       "      <td>11236</td>\n",
       "      <td>40.645032</td>\n",
       "      <td>-73.919978</td>\n",
       "      <td>31.0</td>\n",
       "      <td>0</td>\n",
       "      <td>13.344589</td>\n",
       "      <td>4.981792</td>\n",
       "      <td>...</td>\n",
       "      <td>211.600071</td>\n",
       "      <td>11.154067</td>\n",
       "      <td>1017.660219</td>\n",
       "      <td>1</td>\n",
       "      <td>7</td>\n",
       "      <td>2012</td>\n",
       "      <td>5</td>\n",
       "      <td>58</td>\n",
       "      <td>0</td>\n",
       "      <td>2751</td>\n",
       "    </tr>\n",
       "    <tr>\n",
       "      <th>3772358</th>\n",
       "      <td>3772358</td>\n",
       "      <td>3772358</td>\n",
       "      <td>3</td>\n",
       "      <td>11207</td>\n",
       "      <td>40.786122</td>\n",
       "      <td>-73.804078</td>\n",
       "      <td>31.0</td>\n",
       "      <td>0</td>\n",
       "      <td>13.344589</td>\n",
       "      <td>4.981792</td>\n",
       "      <td>...</td>\n",
       "      <td>211.600071</td>\n",
       "      <td>11.154067</td>\n",
       "      <td>1017.660219</td>\n",
       "      <td>9</td>\n",
       "      <td>7</td>\n",
       "      <td>2012</td>\n",
       "      <td>6</td>\n",
       "      <td>12</td>\n",
       "      <td>0</td>\n",
       "      <td>0</td>\n",
       "    </tr>\n",
       "    <tr>\n",
       "      <th>3772359</th>\n",
       "      <td>3772359</td>\n",
       "      <td>3772359</td>\n",
       "      <td>3</td>\n",
       "      <td>11367</td>\n",
       "      <td>40.719910</td>\n",
       "      <td>-73.809039</td>\n",
       "      <td>31.0</td>\n",
       "      <td>0</td>\n",
       "      <td>13.344589</td>\n",
       "      <td>4.981792</td>\n",
       "      <td>...</td>\n",
       "      <td>211.600071</td>\n",
       "      <td>11.154067</td>\n",
       "      <td>1017.660219</td>\n",
       "      <td>5</td>\n",
       "      <td>7</td>\n",
       "      <td>2012</td>\n",
       "      <td>18</td>\n",
       "      <td>27</td>\n",
       "      <td>0</td>\n",
       "      <td>2284</td>\n",
       "    </tr>\n",
       "  </tbody>\n",
       "</table>\n",
       "<p>3772360 rows × 22 columns</p>\n",
       "</div>"
      ],
      "text/plain": [
       "         Unnamed: 0  Unnamed: 0.1  BOROUGH ZIP CODE   LATITUDE  LONGITUDE  \\\n",
       "0                 0             0        3    11207  40.671786 -42.450823   \n",
       "1                 1             1        2    11217  40.683580 -73.976170   \n",
       "2                 2             2        3    11207  40.671786 -42.450823   \n",
       "3                 3             3        2    11222  40.671786 -42.450823   \n",
       "4                 4             4        3    11207   0.000000   0.000000   \n",
       "...             ...           ...      ...      ...        ...        ...   \n",
       "3772355     3772355       3772355        0    10035  40.801235 -73.941815   \n",
       "3772356     3772356       3772356        3    11102  40.774711 -73.933386   \n",
       "3772357     3772357       3772357        2    11236  40.645032 -73.919978   \n",
       "3772358     3772358       3772358        3    11207  40.786122 -73.804078   \n",
       "3772359     3772359       3772359        3    11367  40.719910 -73.809039   \n",
       "\n",
       "         STREETWIDT  RW_TYPE       temp      dwpt  ...        wdir       wspd  \\\n",
       "0              31.0        0   9.000000  5.700000  ...  185.000000   8.300000   \n",
       "1              31.0        0  17.000000  4.300000  ...  330.000000   7.000000   \n",
       "2              31.0        0  11.000000  9.900000  ...  110.000000   7.000000   \n",
       "3              31.0        0  14.000000  1.900000  ...    8.000000   6.000000   \n",
       "4              31.0        0   8.000000  4.900000  ...   10.000000  15.000000   \n",
       "...             ...      ...        ...       ...  ...         ...        ...   \n",
       "3772355        31.0        0  13.344589  4.981792  ...  211.600071  11.154067   \n",
       "3772356        31.0        0  13.344589  4.981792  ...  211.600071  11.154067   \n",
       "3772357        31.0        0  13.344589  4.981792  ...  211.600071  11.154067   \n",
       "3772358        31.0        0  13.344589  4.981792  ...  211.600071  11.154067   \n",
       "3772359        31.0        0  13.344589  4.981792  ...  211.600071  11.154067   \n",
       "\n",
       "                pres  DAY  MONTH  YEAR  HOUR  MINUTE  CRASH  CRASHES ON ROAD  \n",
       "0        1019.000000   14      4  2021     5      32      1              214  \n",
       "1        1017.000000   13      4  2021    21      35      1                1  \n",
       "2        1006.000000   15      4  2021    16      15      1              255  \n",
       "3        1019.000000   13      4  2021    16       0      1               34  \n",
       "4        1007.000000   12      4  2021     8      25      1              235  \n",
       "...              ...  ...    ...   ...   ...     ...    ...              ...  \n",
       "3772355  1017.660219    6      7  2012    11      46      0              279  \n",
       "3772356  1017.660219    3      7  2012    12      23      0              239  \n",
       "3772357  1017.660219    1      7  2012     5      58      0             2751  \n",
       "3772358  1017.660219    9      7  2012     6      12      0                0  \n",
       "3772359  1017.660219    5      7  2012    18      27      0             2284  \n",
       "\n",
       "[3772360 rows x 22 columns]"
      ]
     },
     "metadata": {},
     "output_type": "display_data"
    }
   ],
   "source": [
    "display(data)"
   ]
  },
  {
   "cell_type": "code",
   "execution_count": 83,
   "metadata": {},
   "outputs": [
    {
     "data": {
      "text/plain": [
       "array([ 0,  5,  6,  9,  1, 11, 12,  3, 10,  8,  7,  4,  2])"
      ]
     },
     "execution_count": 83,
     "metadata": {},
     "output_type": "execute_result"
    }
   ],
   "source": [
    "data.RW_TYPE.unique()"
   ]
  },
  {
   "cell_type": "code",
   "execution_count": 56,
   "metadata": {},
   "outputs": [
    {
     "name": "stdout",
     "output_type": "stream",
     "text": [
      "         BOROUGH_0  BOROUGH_1  BOROUGH_2  BOROUGH_3  BOROUGH_4\n",
      "0                0          0          0          1          0\n",
      "1                0          0          1          0          0\n",
      "2                0          0          0          1          0\n",
      "3                0          0          1          0          0\n",
      "4                0          0          0          1          0\n",
      "...            ...        ...        ...        ...        ...\n",
      "3772355          1          0          0          0          0\n",
      "3772356          0          0          0          1          0\n",
      "3772357          0          0          1          0          0\n",
      "3772358          0          0          0          1          0\n",
      "3772359          0          0          0          1          0\n",
      "\n",
      "[3772360 rows x 5 columns]\n"
     ]
    }
   ],
   "source": [
    "#r_type = pd.get_dummies(data.RW_TYPE.astype(str), prefix='RW_TYPE')\n",
    "#borough = pd.get_dummies(data.BOROUGH.astype(str), prefix='BOROUGH')\n",
    "#zipcode = pd.get_dummies(data['ZIP CODE'].astype(str), prefix='ZIP')\n",
    "#print(borough)"
   ]
  },
  {
   "cell_type": "code",
   "execution_count": 84,
   "metadata": {},
   "outputs": [],
   "source": [
    "shuffled = data.sample(frac=1)\n",
    "shuffled.fillna(0, inplace=True)\n",
    "y = shuffled['CRASH']\n",
    "X = shuffled.drop(labels=['Unnamed: 0', 'Unnamed: 0.1', 'CRASH', 'ZIP CODE'], axis=1)"
   ]
  },
  {
   "cell_type": "code",
   "execution_count": 85,
   "metadata": {},
   "outputs": [],
   "source": [
    "model = LogisticRegression(solver='liblinear', random_state=0)"
   ]
  },
  {
   "cell_type": "code",
   "execution_count": 86,
   "metadata": {},
   "outputs": [],
   "source": [
    "X_train, X_test, y_train, y_test = train_test_split(\n",
    "...     X, y, test_size=0.33, random_state=42)\n",
    "X_dev, X_test, y_dev, y_test = train_test_split(\n",
    "...     X_test, y_test, test_size=0.5, random_state=42)"
   ]
  },
  {
   "cell_type": "code",
   "execution_count": 87,
   "metadata": {},
   "outputs": [
    {
     "data": {
      "text/plain": [
       "LogisticRegression(C=1.0, class_weight=None, dual=False, fit_intercept=True,\n",
       "                   intercept_scaling=1, l1_ratio=None, max_iter=100,\n",
       "                   multi_class='auto', n_jobs=None, penalty='l2',\n",
       "                   random_state=0, solver='liblinear', tol=0.0001, verbose=0,\n",
       "                   warm_start=False)"
      ]
     },
     "execution_count": 87,
     "metadata": {},
     "output_type": "execute_result"
    }
   ],
   "source": [
    "model.fit(X_train, y_train)"
   ]
  },
  {
   "cell_type": "code",
   "execution_count": 88,
   "metadata": {},
   "outputs": [
    {
     "data": {
      "text/plain": [
       "['BOROUGH',\n",
       " 'LATITUDE',\n",
       " 'LONGITUDE',\n",
       " 'STREETWIDT',\n",
       " 'RW_TYPE',\n",
       " 'temp',\n",
       " 'dwpt',\n",
       " 'rhum',\n",
       " 'prcp',\n",
       " 'wdir',\n",
       " 'wspd',\n",
       " 'pres',\n",
       " 'DAY',\n",
       " 'MONTH',\n",
       " 'YEAR',\n",
       " 'HOUR',\n",
       " 'MINUTE',\n",
       " 'CRASHES ON ROAD']"
      ]
     },
     "execution_count": 88,
     "metadata": {},
     "output_type": "execute_result"
    }
   ],
   "source": [
    "list(X_train.columns)"
   ]
  },
  {
   "cell_type": "code",
   "execution_count": 89,
   "metadata": {},
   "outputs": [
    {
     "data": {
      "text/plain": [
       "array([[ 6.44805669e-02, -5.50317955e-02, -3.87712178e-02,\n",
       "        -1.24948949e-02, -9.83490161e-02, -3.10703956e-03,\n",
       "        -3.68589936e-04,  3.71681129e-03,  1.71362722e-03,\n",
       "         3.45557796e-04, -2.69039461e-03,  1.62076906e-02,\n",
       "        -1.24163183e-06, -1.74104531e-03, -8.15774908e-03,\n",
       "         5.02071573e-02, -1.65419769e-02,  3.94168410e-06]])"
      ]
     },
     "execution_count": 89,
     "metadata": {},
     "output_type": "execute_result"
    }
   ],
   "source": [
    "model.coef_"
   ]
  },
  {
   "cell_type": "code",
   "execution_count": 90,
   "metadata": {},
   "outputs": [
    {
     "name": "stdout",
     "output_type": "stream",
     "text": [
      "Accuracy of Logistic Regression Classifier :  0.7390459145394167\n"
     ]
    }
   ],
   "source": [
    "def accuracy(confusion_matrix):\n",
    "   diagonal_sum = confusion_matrix.trace()\n",
    "   sum_of_all_elements = confusion_matrix.sum()\n",
    "   return diagonal_sum / sum_of_all_elements\n",
    "\n",
    "\n",
    "y_pred = model.predict(X_dev)\n",
    "cm = confusion_matrix(y_pred, y_dev)\n",
    "print(\"Accuracy of Logistic Regression Classifier : \", accuracy(cm))"
   ]
  },
  {
   "cell_type": "code",
   "execution_count": 91,
   "metadata": {},
   "outputs": [
    {
     "data": {
      "text/plain": [
       "0.49992047413481483"
      ]
     },
     "execution_count": 91,
     "metadata": {},
     "output_type": "execute_result"
    }
   ],
   "source": [
    "np.mean(y_dev)"
   ]
  },
  {
   "cell_type": "code",
   "execution_count": 92,
   "metadata": {},
   "outputs": [
    {
     "data": {
      "text/plain": [
       "0.6611121732410726"
      ]
     },
     "execution_count": 92,
     "metadata": {},
     "output_type": "execute_result"
    }
   ],
   "source": [
    "np.mean(y_pred)"
   ]
  },
  {
   "cell_type": "code",
   "execution_count": 66,
   "metadata": {},
   "outputs": [],
   "source": [
    "clf_sgd = MLPClassifier(solver='sgd', activation='logistic', alpha=1e-5,\n",
    "                    hidden_layer_sizes=(4, 2), random_state=1)"
   ]
  },
  {
   "cell_type": "code",
   "execution_count": 67,
   "metadata": {},
   "outputs": [],
   "source": [
    "X_train, X_test, y_train, y_test = train_test_split(\n",
    "...     X, y, test_size=0.33, random_state=42)\n",
    "X_dev, X_test, y_dev, y_test = train_test_split(\n",
    "...     X_test, y_test, test_size=0.5, random_state=42)"
   ]
  },
  {
   "cell_type": "code",
   "execution_count": 68,
   "metadata": {},
   "outputs": [
    {
     "data": {
      "text/plain": [
       "MLPClassifier(activation='logistic', alpha=1e-05, batch_size='auto', beta_1=0.9,\n",
       "              beta_2=0.999, early_stopping=False, epsilon=1e-08,\n",
       "              hidden_layer_sizes=(4, 2), learning_rate='constant',\n",
       "              learning_rate_init=0.001, max_fun=15000, max_iter=200,\n",
       "              momentum=0.9, n_iter_no_change=10, nesterovs_momentum=True,\n",
       "              power_t=0.5, random_state=1, shuffle=True, solver='sgd',\n",
       "              tol=0.0001, validation_fraction=0.1, verbose=False,\n",
       "              warm_start=False)"
      ]
     },
     "execution_count": 68,
     "metadata": {},
     "output_type": "execute_result"
    }
   ],
   "source": [
    "clf_sgd.fit(X_train, y_train)"
   ]
  },
  {
   "cell_type": "code",
   "execution_count": 69,
   "metadata": {},
   "outputs": [
    {
     "name": "stdout",
     "output_type": "stream",
     "text": [
      "Accuracy of MLPClassifier :  0.4994722374401347\n"
     ]
    }
   ],
   "source": [
    "y_pred = clf_sgd.predict(X_dev)\n",
    "cm = confusion_matrix(y_pred, y_dev)\n",
    "print(\"Accuracy of MLPClassifier : \", accuracy(cm))"
   ]
  },
  {
   "cell_type": "code",
   "execution_count": 70,
   "metadata": {},
   "outputs": [],
   "source": [
    "y_dev = np.full(len(y_dev), y_dev)"
   ]
  },
  {
   "cell_type": "code",
   "execution_count": 71,
   "metadata": {},
   "outputs": [
    {
     "name": "stdout",
     "output_type": "stream",
     "text": [
      "A_0:  1.0\n",
      "A_1:  0.0\n",
      "Balanced Accuracy:  0.5\n",
      "Class Accuracy:  0.4994722374401347\n"
     ]
    }
   ],
   "source": [
    "positives = sum(y_dev)\n",
    "count_1 = 0\n",
    "count_0 = 0\n",
    "for i in range(len(y_pred)):\n",
    "    if y_dev[i] == 1:\n",
    "        if y_pred[i] == 1:\n",
    "            count_1 += 1\n",
    "    elif y_pred[i] == 0:\n",
    "        count_0 += 1\n",
    "\n",
    "acc_1 = count_1/positives\n",
    "acc_0 = count_0/(len(y_dev)-positives)\n",
    "balanced_acc = (1/2)*(acc_0+acc_1)\n",
    "class_acc = np.mean(y_dev)*acc_1 + (1-np.mean(y_dev))*acc_0\n",
    "\n",
    "print('A_0: ', acc_0)\n",
    "print('A_1: ', acc_1)\n",
    "print('Balanced Accuracy: ', balanced_acc)\n",
    "print('Class Accuracy: ', class_acc)"
   ]
  },
  {
   "cell_type": "code",
   "execution_count": 72,
   "metadata": {},
   "outputs": [],
   "source": [
    "clf_newton = MLPClassifier(solver='lbfgs', activation='logistic', alpha=1e-5,\n",
    "                    hidden_layer_sizes=(4, 2), random_state=1)"
   ]
  },
  {
   "cell_type": "code",
   "execution_count": 73,
   "metadata": {},
   "outputs": [],
   "source": [
    "X_train, X_test, y_train, y_test = train_test_split(\n",
    "...     X, y, test_size=0.33, random_state=42)\n",
    "X_dev, X_test, y_dev, y_test = train_test_split(\n",
    "...     X_test, y_test, test_size=0.5, random_state=42)"
   ]
  },
  {
   "cell_type": "code",
   "execution_count": 74,
   "metadata": {},
   "outputs": [
    {
     "data": {
      "text/plain": [
       "MLPClassifier(activation='logistic', alpha=1e-05, batch_size='auto', beta_1=0.9,\n",
       "              beta_2=0.999, early_stopping=False, epsilon=1e-08,\n",
       "              hidden_layer_sizes=(4, 2), learning_rate='constant',\n",
       "              learning_rate_init=0.001, max_fun=15000, max_iter=200,\n",
       "              momentum=0.9, n_iter_no_change=10, nesterovs_momentum=True,\n",
       "              power_t=0.5, random_state=1, shuffle=True, solver='lbfgs',\n",
       "              tol=0.0001, validation_fraction=0.1, verbose=False,\n",
       "              warm_start=False)"
      ]
     },
     "execution_count": 74,
     "metadata": {},
     "output_type": "execute_result"
    }
   ],
   "source": [
    "clf_newton.fit(X_train, y_train)"
   ]
  },
  {
   "cell_type": "code",
   "execution_count": 75,
   "metadata": {},
   "outputs": [
    {
     "name": "stdout",
     "output_type": "stream",
     "text": [
      "Accuracy of MLPClassifier :  0.7466032816067116\n"
     ]
    }
   ],
   "source": [
    "y_pred = clf_newton.predict(X_dev)\n",
    "cm = confusion_matrix(y_pred, y_dev)\n",
    "print(\"Accuracy of MLPClassifier : \", accuracy(cm))"
   ]
  },
  {
   "cell_type": "code",
   "execution_count": 76,
   "metadata": {},
   "outputs": [],
   "source": [
    "y_dev = np.full(len(y_dev), y_dev)"
   ]
  },
  {
   "cell_type": "code",
   "execution_count": 77,
   "metadata": {},
   "outputs": [
    {
     "name": "stdout",
     "output_type": "stream",
     "text": [
      "A_0:  0.49267106477833067\n",
      "A_1:  1.0\n",
      "Balanced Accuracy:  0.7463355323891654\n",
      "Class Accuracy:  0.7466032816067116\n"
     ]
    }
   ],
   "source": [
    "positives = sum(y_dev)\n",
    "count_1 = 0\n",
    "count_0 = 0\n",
    "for i in range(len(y_pred)):\n",
    "    if y_dev[i] == 1:\n",
    "        if y_pred[i] == 1:\n",
    "            count_1 += 1\n",
    "    elif y_pred[i] == 0:\n",
    "        count_0 += 1\n",
    "\n",
    "acc_1 = count_1/positives\n",
    "acc_0 = count_0/(len(y_dev)-positives)\n",
    "balanced_acc = (1/2)*(acc_0+acc_1)\n",
    "class_acc = np.mean(y_dev)*acc_1 + (1-np.mean(y_dev))*acc_0\n",
    "\n",
    "print('A_0: ', acc_0)\n",
    "print('A_1: ', acc_1)\n",
    "print('Balanced Accuracy: ', balanced_acc)\n",
    "print('Class Accuracy: ', class_acc)"
   ]
  },
  {
   "cell_type": "code",
   "execution_count": null,
   "metadata": {},
   "outputs": [],
   "source": []
  }
 ],
 "metadata": {
  "kernelspec": {
   "display_name": "Python 3",
   "language": "python",
   "name": "python3"
  },
  "language_info": {
   "codemirror_mode": {
    "name": "ipython",
    "version": 3
   },
   "file_extension": ".py",
   "mimetype": "text/x-python",
   "name": "python",
   "nbconvert_exporter": "python",
   "pygments_lexer": "ipython3",
   "version": "3.8.9"
  }
 },
 "nbformat": 4,
 "nbformat_minor": 4
}
