{
 "cells": [
  {
   "cell_type": "code",
   "execution_count": 1,
   "metadata": {},
   "outputs": [],
   "source": [
    "import sklearn\n",
    "import numpy as np\n",
    "import pandas as pd\n",
    "import os\n",
    "import numpy as np\n",
    "import seaborn as sns\n",
    "from pylab import rcParams\n",
    "import matplotlib.pyplot as plt\n",
    "from matplotlib import rc\n",
    "from sklearn.model_selection import train_test_split\n",
    "from sklearn.metrics import confusion_matrix, classification_report\n",
    "from sklearn.neural_network import MLPClassifier"
   ]
  },
  {
   "cell_type": "code",
   "execution_count": 2,
   "metadata": {},
   "outputs": [],
   "source": [
    "data = pd.read_csv('location_and_weather_simple.csv')"
   ]
  },
  {
   "cell_type": "code",
   "execution_count": 3,
   "metadata": {},
   "outputs": [],
   "source": [
    "shuffled = data.sample(frac=1)"
   ]
  },
  {
   "cell_type": "code",
   "execution_count": 4,
   "metadata": {},
   "outputs": [],
   "source": [
    "y = shuffled['labels']\n",
    "X = shuffled.drop(labels=['Unnamed: 0', 'labels'], axis=1)"
   ]
  },
  {
   "cell_type": "code",
   "execution_count": 5,
   "metadata": {},
   "outputs": [],
   "source": [
    "X['LATITUDE'].fillna(value=X['LATITUDE'].mean(), inplace=True)\n",
    "X['LONGITUDE'].fillna(value=X['LONGITUDE'].mean(), inplace=True)\n",
    "X['temp'].fillna(value=X['temp'].mean(), inplace=True)\n",
    "X['dwpt'].fillna(value=0, inplace=True)\n",
    "X['rhum'].fillna(value=X['rhum'].mean(), inplace=True)\n",
    "X['prcp'].fillna(value=X['prcp'].mean(), inplace=True)\n",
    "X['wdir'].fillna(value=X['wdir'].mean(), inplace=True)\n",
    "X['wspd'].fillna(value=0, inplace=True)\n",
    "X['pres'].fillna(value=0, inplace=True)\n",
    "X['coco'].fillna(value=0, inplace=True)"
   ]
  },
  {
   "cell_type": "markdown",
   "metadata": {},
   "source": [
    "#MLP CLASSIFIER USING NEWTON'S METHOD"
   ]
  },
  {
   "cell_type": "code",
   "execution_count": 6,
   "metadata": {},
   "outputs": [],
   "source": [
    "clf_newton = MLPClassifier(solver='lbfgs', activation='logistic', alpha=1e-5,\n",
    "                    hidden_layer_sizes=(12, 2), random_state=1)"
   ]
  },
  {
   "cell_type": "code",
   "execution_count": 7,
   "metadata": {},
   "outputs": [],
   "source": [
    "X_train, X_test, y_train, y_test = train_test_split(\n",
    "...     X, y, test_size=0.33, random_state=42)"
   ]
  },
  {
   "cell_type": "code",
   "execution_count": 8,
   "metadata": {},
   "outputs": [
    {
     "data": {
      "text/plain": [
       "MLPClassifier(activation='logistic', alpha=1e-05, batch_size='auto', beta_1=0.9,\n",
       "              beta_2=0.999, early_stopping=False, epsilon=1e-08,\n",
       "              hidden_layer_sizes=(12, 2), learning_rate='constant',\n",
       "              learning_rate_init=0.001, max_fun=15000, max_iter=200,\n",
       "              momentum=0.9, n_iter_no_change=10, nesterovs_momentum=True,\n",
       "              power_t=0.5, random_state=1, shuffle=True, solver='lbfgs',\n",
       "              tol=0.0001, validation_fraction=0.1, verbose=False,\n",
       "              warm_start=False)"
      ]
     },
     "execution_count": 8,
     "metadata": {},
     "output_type": "execute_result"
    }
   ],
   "source": [
    "clf_newton.fit(X_train, y_train)"
   ]
  },
  {
   "cell_type": "code",
   "execution_count": 10,
   "metadata": {},
   "outputs": [
    {
     "name": "stdout",
     "output_type": "stream",
     "text": [
      "Accuracy of MLPClassifier :  0.5951791298592072\n"
     ]
    }
   ],
   "source": [
    "def accuracy(confusion_matrix):\n",
    "   diagonal_sum = confusion_matrix.trace()\n",
    "   sum_of_all_elements = confusion_matrix.sum()\n",
    "   return diagonal_sum / sum_of_all_elements\n",
    "\n",
    "\n",
    "y_pred = clf_newton.predict(X_test)\n",
    "cm = confusion_matrix(y_pred, y_test)\n",
    "print(\"Accuracy of MLPClassifier : \", accuracy(cm))"
   ]
  },
  {
   "cell_type": "code",
   "execution_count": 11,
   "metadata": {},
   "outputs": [],
   "source": [
    "y_test = np.full(len(y_test), y_test)"
   ]
  },
  {
   "cell_type": "code",
   "execution_count": 13,
   "metadata": {},
   "outputs": [
    {
     "name": "stdout",
     "output_type": "stream",
     "text": [
      "A_0:  0.32426788324685546\n",
      "A_1:  0.8661517524169745\n",
      "Balanced Accuracy:  0.595209817831915\n",
      "Class Accuracy:  0.5951791298592072\n"
     ]
    }
   ],
   "source": [
    "positives = sum(y_test)\n",
    "count_1 = 0\n",
    "count_0 = 0\n",
    "for i in range(len(y_pred)):\n",
    "    if y_test[i] == 1:\n",
    "        if y_pred[i] == 1:\n",
    "            count_1 += 1\n",
    "    elif y_pred[i] == 0:\n",
    "        count_0 += 1\n",
    "\n",
    "acc_1 = count_1/positives\n",
    "acc_0 = count_0/(len(y_test)-positives)\n",
    "balanced_acc = (1/2)*(acc_0+acc_1)\n",
    "class_acc = np.mean(y_test)*acc_1 + (1-np.mean(y_test))*acc_0\n",
    "\n",
    "print('A_0: ', acc_0)\n",
    "print('A_1: ', acc_1)\n",
    "print('Balanced Accuracy: ', balanced_acc)\n",
    "print('Class Accuracy: ', class_acc)"
   ]
  },
  {
   "cell_type": "markdown",
   "metadata": {},
   "source": [
    "#MLP CLASSIFIER USING STOCHASTIC GRADIENT DESCENT"
   ]
  },
  {
   "cell_type": "code",
   "execution_count": 14,
   "metadata": {},
   "outputs": [],
   "source": [
    "clf_sgd = MLPClassifier(solver='sgd', activation='logistic', alpha=1e-5,\n",
    "                    hidden_layer_sizes=(12, 2), random_state=1)"
   ]
  },
  {
   "cell_type": "code",
   "execution_count": 15,
   "metadata": {},
   "outputs": [],
   "source": [
    "X_train, X_test, y_train, y_test = train_test_split(\n",
    "...     X, y, test_size=0.33, random_state=42)"
   ]
  },
  {
   "cell_type": "code",
   "execution_count": 16,
   "metadata": {},
   "outputs": [
    {
     "data": {
      "text/plain": [
       "MLPClassifier(activation='logistic', alpha=1e-05, batch_size='auto', beta_1=0.9,\n",
       "              beta_2=0.999, early_stopping=False, epsilon=1e-08,\n",
       "              hidden_layer_sizes=(12, 2), learning_rate='constant',\n",
       "              learning_rate_init=0.001, max_fun=15000, max_iter=200,\n",
       "              momentum=0.9, n_iter_no_change=10, nesterovs_momentum=True,\n",
       "              power_t=0.5, random_state=1, shuffle=True, solver='sgd',\n",
       "              tol=0.0001, validation_fraction=0.1, verbose=False,\n",
       "              warm_start=False)"
      ]
     },
     "execution_count": 16,
     "metadata": {},
     "output_type": "execute_result"
    }
   ],
   "source": [
    "clf_sgd.fit(X_train, y_train)"
   ]
  },
  {
   "cell_type": "code",
   "execution_count": 17,
   "metadata": {},
   "outputs": [
    {
     "name": "stdout",
     "output_type": "stream",
     "text": [
      "Accuracy of MLPClassifier :  0.5000566320100186\n"
     ]
    }
   ],
   "source": [
    "y_pred = clf_sgd.predict(X_test)\n",
    "cm = confusion_matrix(y_pred, y_test)\n",
    "print(\"Accuracy of MLPClassifier : \", accuracy(cm))"
   ]
  },
  {
   "cell_type": "code",
   "execution_count": 18,
   "metadata": {},
   "outputs": [],
   "source": [
    "y_test = np.full(len(y_test), y_test)"
   ]
  },
  {
   "cell_type": "code",
   "execution_count": 19,
   "metadata": {},
   "outputs": [
    {
     "name": "stdout",
     "output_type": "stream",
     "text": [
      "A_0:  1.0\n",
      "A_1:  0.0\n",
      "Balanced Accuracy:  0.5\n",
      "Class Accuracy:  0.5000566320100186\n"
     ]
    }
   ],
   "source": [
    "positives = sum(y_test)\n",
    "count_1 = 0\n",
    "count_0 = 0\n",
    "for i in range(len(y_pred)):\n",
    "    if y_test[i] == 1:\n",
    "        if y_pred[i] == 1:\n",
    "            count_1 += 1\n",
    "    elif y_pred[i] == 0:\n",
    "        count_0 += 1\n",
    "\n",
    "acc_1 = count_1/positives\n",
    "acc_0 = count_0/(len(y_test)-positives)\n",
    "balanced_acc = (1/2)*(acc_0+acc_1)\n",
    "class_acc = np.mean(y_test)*acc_1 + (1-np.mean(y_test))*acc_0\n",
    "\n",
    "print('A_0: ', acc_0)\n",
    "print('A_1: ', acc_1)\n",
    "print('Balanced Accuracy: ', balanced_acc)\n",
    "print('Class Accuracy: ', class_acc)"
   ]
  }
 ],
 "metadata": {
  "kernelspec": {
   "display_name": "Python 3",
   "language": "python",
   "name": "python3"
  },
  "language_info": {
   "codemirror_mode": {
    "name": "ipython",
    "version": 3
   },
   "file_extension": ".py",
   "mimetype": "text/x-python",
   "name": "python",
   "nbconvert_exporter": "python",
   "pygments_lexer": "ipython3",
   "version": "3.8.9"
  }
 },
 "nbformat": 4,
 "nbformat_minor": 4
}
